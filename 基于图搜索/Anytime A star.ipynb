{
 "cells": [
  {
   "cell_type": "code",
   "execution_count": 6,
   "id": "7e46e0b1",
   "metadata": {},
   "outputs": [
    {
     "name": "stdout",
     "output_type": "stream",
     "text": [
      "min_x: -10\n",
      "min_y: -10\n",
      "max_x: 60\n",
      "max_y: 60\n",
      "x_width: 15\n",
      "y_width: 15\n",
      "---------------------the  1 th iter-------------------------\n",
      "current weight: 11.0 | current path dist: 93.63961030678928 | time cost: 0.0011248588562011719\n",
      "SPath dist: 93.63961030678928 | min f in open: 72.26812023536854 | SPath dist/min_f 1.2957250029724916\n",
      "----------------------------------------------------\n",
      "---------------------the  2 th iter-------------------------\n",
      "current weight: 1.1957250029724915 | current path dist: 89.49747468305833 | time cost: 0.004508018493652344\n",
      "SPath dist: 89.49747468305833 | min f in open: 72.26812023536854 | SPath dist/min_f 1.238408780961451\n",
      "----------------------------------------------------\n",
      "---------------------the  3 th iter-------------------------\n",
      "current weight: 1.0957250029724914 | current path dist: 89.49747468305833 | time cost: 0.0023050308227539062\n",
      "SPath dist: 89.49747468305833 | min f in open: 74.03124237432849 | SPath dist/min_f 1.208914936622663\n",
      "----------------------------------------------------\n",
      "---------------------the  4 th iter-------------------------\n",
      "current weight: 0.9957250029724914 | current path dist: 85.35533905932738 | time cost: 0.002644777297973633\n",
      "SPath dist: 85.35533905932738 | min f in open: 80.07842035554269 | SPath dist/min_f 1.0658968880799038\n",
      "----------------------------------------------------\n",
      "Anytime A* Finished.\n"
     ]
    },
    {
     "data": {
      "image/png": "[encoded data removed]",
      "text/plain": [
       "<Figure size 864x216 with 4 Axes>"
      ]
     },
     "metadata": {
      "needs_background": "light"
     },
     "output_type": "display_data"
    }
   ],
   "source": [
    "import heapq\n",
    "import math\n",
    "import matplotlib.pyplot as plt\n",
    "import numpy as np\n",
    "import math\n",
    "import matplotlib\n",
    "%matplotlib inline\n",
    "#set up matplotlib\n",
    "# is_ipython = 'inline' in matplotlib.get_backend()\n",
    "# if is_ipython:\n",
    "#     from IPython import display\n",
    "# plt.ion()\n",
    "# plt.figure(figsize=(12, 12))\n",
    "fig = plt.figure(figsize=(12, 3))\n",
    "\n",
    "\"\"\"\n",
    "\n",
    "\"\"\"\n",
    "\n",
    "class GridMap:\n",
    "    def __init__(self, ox, oy, resolution):\n",
    "        self.min_x = None\n",
    "        self.min_y = None\n",
    "        self.max_x = None\n",
    "        self.max_y = None\n",
    "        self.x_width = None\n",
    "        self.y_width = None\n",
    "        self.obstacle_map = None\n",
    "        \n",
    "        self.resolution = resolution\n",
    "        self.calc_obstacle_map(ox, oy)\n",
    "        \n",
    "    def calc_obstacle_map(self, ox, oy):\n",
    "\n",
    "        self.min_x = round(min(ox))\n",
    "        self.min_y = round(min(oy))\n",
    "        self.max_x = round(max(ox))\n",
    "        self.max_y = round(max(oy))\n",
    "        print(\"min_x:\", self.min_x)\n",
    "        print(\"min_y:\", self.min_y)\n",
    "        print(\"max_x:\", self.max_x)\n",
    "        print(\"max_y:\", self.max_y)\n",
    "\n",
    "        self.x_width = round((self.max_x - self.min_x) / self.resolution)+1\n",
    "        self.y_width = round((self.max_y - self.min_y) / self.resolution)+1\n",
    "        print(\"x_width:\", self.x_width)\n",
    "        print(\"y_width:\", self.y_width)\n",
    "\n",
    "        # obstacle map generation\n",
    "        self.obstacle_map = np.zeros((self.x_width, self.y_width))\n",
    "        for x, y in zip(ox, oy):\n",
    "            ix, iy = self.calc_xy_index(x, self.min_x), self.calc_xy_index(y, self.min_y)\n",
    "            if 0<=ix<self.x_width and 0<=iy<self.y_width:\n",
    "                self.obstacle_map[ix, iy] = 10.0  \n",
    "        \n",
    "\n",
    "    def calc_position(self, index, minp):\n",
    "        pos = index * self.resolution + minp\n",
    "        return pos\n",
    "\n",
    "    def calc_xy_index(self, position, minp):\n",
    "        return round((position - minp) / self.resolution)\n",
    "    \n",
    "    def calc_unique_index(self, node):\n",
    "        return node.iy*self.x_width + node.ix\n",
    "\n",
    "    def verify_node(self, node):\n",
    "        if node.ix >= self.x_width or node.ix < 0 or node.iy >= self.y_width or node.iy < 0:\n",
    "            return False\n",
    "        if abs(self.obstacle_map[node.ix, node.iy] - 10.0) < 0.01:\n",
    "            return False        \n",
    "        return True\n",
    "\n",
    "sx = -5.0  # [m]\n",
    "sy = -5.0  # [m]\n",
    "gx = 50.0  # [m]\n",
    "gy = 50.0  # [m]\n",
    "grid_size = 5.0  # [m]\n",
    "robot_radius = 1.0  # [m]\n",
    "\n",
    "# set obstacle positions\n",
    "ox, oy = [], []\n",
    "for i in range(-10, 60):\n",
    "    ox.append(i)\n",
    "    oy.append(-10.0)\n",
    "for i in range(-10, 60):\n",
    "    ox.append(60.0)\n",
    "    oy.append(i)\n",
    "for i in range(-10, 61):\n",
    "    ox.append(i)\n",
    "    oy.append(60.0)\n",
    "for i in range(-10, 61):\n",
    "    ox.append(-10.0)\n",
    "    oy.append(i)\n",
    "# for i in range(-10, 40):\n",
    "#     ox.append(20.0)\n",
    "#     oy.append(i)\n",
    "for i in range(20, 40):\n",
    "    ox.append(40.0)\n",
    "    oy.append(60.0 - i)    \n",
    "    \n",
    "for i in range(20, 40):\n",
    "    oy.append(40.0)\n",
    "    ox.append(i)      \n",
    "grid_map = GridMap(ox, oy, grid_size)\n",
    "\n",
    "\n",
    "\n",
    "class Node:\n",
    "    def __init__(self, ix, iy, C=0.0, P=None):\n",
    "        self.ix = ix\n",
    "        self.iy = iy\n",
    "        self.C = C\n",
    "        self.P = P\n",
    "        \n",
    "action_set = {'UP':[0, 1], 'DOWN':[0, -1], 'LEFT':[-1, 0], 'RIGHT':[1, 0], 'UL':[-1, 1], 'UR':[1, 1], 'DL':[-1, -1], 'DR':[1, -1]}\n",
    "\n",
    "def get_neighbors(current, grid_map):\n",
    "    for a in action_set:\n",
    "        l_x1_x2 = np.sqrt(action_set[a][0]*action_set[a][0]+action_set[a][1]*action_set[a][1])*grid_map.resolution\n",
    "        node = Node(current.ix+action_set[a][0], \n",
    "                    current.iy+action_set[a][1], current.C+l_x1_x2, \n",
    "                    grid_map.calc_unique_index(current))\n",
    "        if grid_map.verify_node(node):\n",
    "            yield node\n",
    "\n",
    "            \n",
    "def get_weight(d):\n",
    "    return np.exp(0.3*d)\n",
    "\n",
    "def get_heuristic(node, end_node, w):\n",
    "    dx = node.ix - end_node.ix\n",
    "    dy = node.iy - end_node.iy\n",
    "    d = np.sqrt(dx*dx+dy*dy)*grid_map.resolution\n",
    "    return d*w\n",
    "\n",
    "def AnytimeAStarOnce(w, pre_path_dist, grid_map, end_node):\n",
    "    Closed_set = {}\n",
    "    InCons_set = {}    \n",
    "    while True:\n",
    "#         print(len(Open_set))\n",
    "        if not Open_set:\n",
    "            path_x, path_y, path_dist = ShortestPathFinder(grid_map, end_node)\n",
    "            return InCons_set, path_x, path_y, path_dist   \n",
    "        F, c_id = heapq.heappop(Q)\n",
    "        if c_id in Open_set:                \n",
    "            current = Open_set.pop(c_id)\n",
    "            Closed_set[c_id] = current\n",
    "            if current.ix == end_node.ix and current.iy == end_node.iy:                \n",
    "                path_x, path_y, path_dist = ShortestPathFinder(grid_map, end_node)\n",
    "                return InCons_set, path_x, path_y, path_dist\n",
    "            for node in get_neighbors(current, grid_map):\n",
    "                neighbor_index = grid_map.calc_unique_index(node)\n",
    "                if neighbor_index not in Visited_set:\n",
    "                    Visited_set[neighbor_index] = node \n",
    "                    Open_set[neighbor_index] = node \n",
    "                    heapq.heappush(Q, (node.C+get_heuristic(node, end_node, w), neighbor_index))\n",
    "#                     grid_map.obstacle_map[node.ix, node.iy] = 2  \n",
    "                elif (pre_path_dist > node.C+get_heuristic(node, end_node, 1.0) and \n",
    "                      Visited_set[neighbor_index].C > node.C):\n",
    "                    Visited_set[neighbor_index] = node \n",
    "                    if neighbor_index not in Closed_set:\n",
    "                        Open_set[neighbor_index] = node\n",
    "                        heapq.heappush(Q, (node.C+get_heuristic(node, end_node, w), neighbor_index))\n",
    "#                         grid_map.obstacle_map[node.ix, node.iy] = 2\n",
    "                    else:\n",
    "                        InCons_set[neighbor_index] = node\n",
    "\n",
    "#         plt.clf()\n",
    "#         plt.imshow(grid_map.obstacle_map)\n",
    "#         if is_ipython:\n",
    "#             display.clear_output(wait=True)\n",
    "#             display.display(plt.gcf())                \n",
    "                \n",
    "        \n",
    "Visited_set = {} \n",
    "Open_set = {}\n",
    "Q = []\n",
    "\n",
    "import time\n",
    "    \n",
    "def AnytimeAStar(grid_map, start_node, end_node, T): # 允许的计算周期 unit 秒 \n",
    "    w = 11.1\n",
    "    Visited_set[grid_map.calc_unique_index(start_node)] = start_node\n",
    "    Open_set[grid_map.calc_unique_index(start_node)] = start_node\n",
    "    heapq.heappush(Q, (start_node.C+get_heuristic(start_node, end_node, w), \n",
    "                       grid_map.calc_unique_index(start_node)))\n",
    "    SPath_dist = 99999.0\n",
    "    t0 = time.time()\n",
    "    dt = 0.0\n",
    "    count = 1\n",
    "    while w >= 1.0 and dt < T: \n",
    "        w -= 0.1\n",
    "        print(\"---------------------the \",count,\"th iter-------------------------\")\n",
    "        t1 = time.time()\n",
    "        InCons_set, SPathx, SPathy, SPath_dist = AnytimeAStarOnce(w, SPath_dist, grid_map, end_node)\n",
    "        dt = time.time()-t0 # unit s\n",
    "        print(\"current weight:\", w, \"| current path dist:\",SPath_dist, \"| time cost:\", time.time()-t1);\n",
    "        for index, node in InCons_set.items():\n",
    "            Open_set[index] = node\n",
    "            heapq.heappush(Q, (node.C+get_heuristic(node, end_node, w), index))\n",
    "        min_f = min([n.C+get_heuristic(n, end_node, 1.0) for _, n in Open_set.items()])\n",
    "        w = min(w, SPath_dist/min_f)\n",
    "        print(\"SPath dist:\", SPath_dist, \"| min f in open:\", min_f, \"| SPath dist/min_f\", SPath_dist/min_f)\n",
    "        \n",
    "        \n",
    "        print(\"----------------------------------------------------\")\n",
    "        for ix, iy in zip(SPathx, SPathy):\n",
    "            grid_map.obstacle_map[ix, iy] = 4\n",
    "        plt.subplot(1,4,count)\n",
    "        plt.imshow(grid_map.obstacle_map)  \n",
    "        plt.title(\"the \"+str(count)+\" iter\")\n",
    "        grid_map.obstacle_map[start_node.ix, start_node.iy] = 8\n",
    "        grid_map.obstacle_map[end_node.ix, end_node.iy] = 3        \n",
    "        for ix, iy in zip(SPathx, SPathy):\n",
    "            grid_map.obstacle_map[ix, iy] = 0\n",
    "        count += 1    \n",
    "    print(\"Anytime A* Finished.\")\n",
    "    return SPathx, SPathy, SPath_dist    \n",
    "            \n",
    "        \n",
    "def ShortestPathFinder(grid_map, end_node):\n",
    "    if grid_map.verify_node(end_node) == False:\n",
    "        print(\"the goal is unreachable!!!please change a reachable goal...\")\n",
    "        return [], [], -1\n",
    "    \n",
    "    end_index = grid_map.calc_unique_index(end_node)\n",
    "    SPath_x = [Visited_set[end_index].ix]\n",
    "    SPath_y = [Visited_set[end_index].iy]      \n",
    "    SPath_dist = Visited_set[end_index].C\n",
    "    v_index = Visited_set[end_index].P\n",
    "    while v_index: \n",
    "        SPath_x.append(Visited_set[v_index].ix)\n",
    "        SPath_y.append(Visited_set[v_index].iy)\n",
    "        v_index = Visited_set[v_index].P\n",
    "    return list(reversed(SPath_x)), list(reversed(SPath_y)), SPath_dist\n",
    "\n",
    "start_node = Node(2, 2)\n",
    "end_node = Node(12, 12)\n",
    "grid_map.obstacle_map[start_node.ix, start_node.iy] = 8\n",
    "grid_map.obstacle_map[end_node.ix, end_node.iy] = 3\n",
    "plt.imshow(grid_map.obstacle_map)\n",
    "T = 1.0 # 系统给的时间周期为100ms\n",
    "path_x, path_y, path_dist = AnytimeAStar(grid_map, start_node, end_node,T)\n",
    "# grid_map.obstacle_map[end_node.ix, end_node.iy] = 4"
   ]
  },
  {
   "cell_type": "code",
   "execution_count": 27,
   "id": "a27f602f",
   "metadata": {},
   "outputs": [
    {
     "data": {
      "image/png": "[encoded data removed]",
      "text/plain": [
       "<Figure size 432x288 with 1 Axes>"
      ]
     },
     "metadata": {},
     "output_type": "display_data"
    },
    {
     "data": {
      "image/png": "[encoded data removed]",
      "text/plain": [
       "<Figure size 432x288 with 1 Axes>"
      ]
     },
     "metadata": {
      "needs_background": "light"
     },
     "output_type": "display_data"
    }
   ],
   "source": [
    "for ix, iy in zip(path_x, path_y):\n",
    "    grid_map.obstacle_map[ix, iy] = 4\n",
    "    \n",
    "plt.clf()\n",
    "plt.imshow(grid_map.obstacle_map)\n",
    "if is_ipython:\n",
    "    display.clear_output(wait=True)\n",
    "    display.display(plt.gcf()) \n",
    "    "
   ]
  },
  {
   "cell_type": "code",
   "execution_count": 2,
   "id": "1cbf6807",
   "metadata": {},
   "outputs": [
    {
     "data": {
      "text/plain": [
       "(3, 2)"
      ]
     },
     "execution_count": 2,
     "metadata": {},
     "output_type": "execute_result"
    }
   ],
   "source": [
    "import heapq\n",
    "\n",
    "a = [(7,2),(3,5),(4,5),(3,2)]\n",
    "heapq.heapify(a)\n",
    "a[0]"
   ]
  },
  {
   "cell_type": "code",
   "execution_count": 28,
   "id": "0997947b",
   "metadata": {},
   "outputs": [
    {
     "data": {
      "text/plain": [
       "2"
      ]
     },
     "execution_count": 28,
     "metadata": {},
     "output_type": "execute_result"
    }
   ],
   "source": [
    "min([2,3,4,5])"
   ]
  },
  {
   "cell_type": "code",
   "execution_count": 5,
   "id": "eedfa5bd",
   "metadata": {},
   "outputs": [
    {
     "name": "stdout",
     "output_type": "stream",
     "text": [
      "ok\n"
     ]
    }
   ],
   "source": [
    "a = [0]\n",
    "if a:\n",
    "    print(\"ok\")"
   ]
  },
  {
   "cell_type": "code",
   "execution_count": 14,
   "id": "e1f2f55d",
   "metadata": {},
   "outputs": [
    {
     "name": "stdout",
     "output_type": "stream",
     "text": [
      "ok\n"
     ]
    }
   ],
   "source": [
    "if [1,2]>[1,1]:\n",
    "    print(\"ok\")"
   ]
  },
  {
   "cell_type": "code",
   "execution_count": 16,
   "id": "7f79bd28",
   "metadata": {},
   "outputs": [
    {
     "name": "stdout",
     "output_type": "stream",
     "text": [
      "{'b': 2, 'c': 3}\n"
     ]
    }
   ],
   "source": [
    "a = {'a': 1, 'b':2, 'c':3}\n",
    "del a['a']\n",
    "print(a)"
   ]
  },
  {
   "cell_type": "code",
   "execution_count": null,
   "id": "6e41faf3",
   "metadata": {},
   "outputs": [],
   "source": []
  }
 ],
 "metadata": {
  "kernelspec": {
   "display_name": "Python 3 (ipykernel)",
   "language": "python",
   "name": "python3"
  },
  "language_info": {
   "codemirror_mode": {
    "name": "ipython",
    "version": 3
   },
   "file_extension": ".py",
   "mimetype": "text/x-python",
   "name": "python",
   "nbconvert_exporter": "python",
   "pygments_lexer": "ipython3",
   "version": "3.9.5"
  }
 },
 "nbformat": 4,
 "nbformat_minor": 5
}
