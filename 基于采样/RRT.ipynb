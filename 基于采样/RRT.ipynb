{
 "cells": [
  {
   "cell_type": "code",
   "execution_count": 7,
   "id": "87effd1a",
   "metadata": {},
   "outputs": [
    {
     "data": {
      "image/png": "[encoded data removed]",
      "text/plain": [
       "<Figure size 360x360 with 1 Axes>"
      ]
     },
     "metadata": {
      "needs_background": "light"
     },
     "output_type": "display_data"
    }
   ],
   "source": [
    "import numpy as np\n",
    "import random\n",
    "import math\n",
    "import matplotlib.pyplot as plt\n",
    "plt.figure(figsize=(5, 5))\n",
    "class Box2D:\n",
    "    def __init__(self, x, y, yaw, corner_points=None, v=0.0):\n",
    "        self.x = x\n",
    "        self.y = y\n",
    "        self.yaw = yaw\n",
    "        self.corner_points = corner_points\n",
    "        self.v = v\n",
    "\n",
    "corner_points3 = [[0.5, -0.5, -0.5, 0.5],\n",
    "                 [0.0, 0.5, -0.5, 0.0]]    \n",
    "corner_points4 = [[0.5, -0.5, -0.5, 0.5, 0.5],\n",
    "                 [0.5, 0.5, -0.5, -0.5, 0.5]]        \n",
    "corner_points5 = [[1.0, 0.0, -0.5, -0.5, 0.0, 1.0],\n",
    "                 [0.0, 0.5, 0.5, -0.5, -0.5, 0.0]]           \n",
    "obs0 = Box2D(4.0, 4.0, math.pi/2.0, corner_points=corner_points3)\n",
    "obs1 = Box2D(0.0, 6.0, math.pi/3.0, corner_points=corner_points4)\n",
    "obs2 = Box2D(-2.0, 0.0, -math.pi/3.0, corner_points=corner_points5)\n",
    "obs_buf = [obs0, obs1, obs2]\n",
    "def local2global(x0, y0, yaw0, corner_points):\n",
    "    R = np.array([[math.cos(yaw0), -math.sin(yaw0)],\n",
    "                  [math.sin(yaw0), math.cos(yaw0)]])\n",
    "    corner_arr = np.array(corner_points)\n",
    "    return np.dot(R, corner_arr)+np.array([[x0],[y0]])\n",
    "for i, obs in enumerate(obs_buf):\n",
    "    gcp = local2global(obs.x, obs.y, obs.yaw, obs.corner_points)\n",
    "    plt.plot(gcp[0], gcp[1], label=\"obs \"+str(i))\n",
    "    plt.axis([-5, 10, -5, 10])\n",
    "plt.legend(loc=\"upper right\")\n",
    "\n",
    "plt.show()\n"
   ]
  },
  {
   "cell_type": "code",
   "execution_count": 8,
   "id": "dd217140",
   "metadata": {},
   "outputs": [
    {
     "data": {
      "image/png": "[encoded data removed]",
      "text/plain": [
       "<Figure size 360x360 with 1 Axes>"
      ]
     },
     "metadata": {
      "needs_background": "light"
     },
     "output_type": "display_data"
    }
   ],
   "source": [
    "import math\n",
    "import matplotlib.pyplot as plt\n",
    "import numpy as np\n",
    "\n",
    "def inflation_obs(obs, r):\n",
    "    A = []\n",
    "    inflat_cps = []\n",
    "    gcp = local2global(obs.x, obs.y, obs.yaw, obs.corner_points)\n",
    "    for i in range(len(gcp[0])-1):\n",
    "        v1 = [gcp[0, i], gcp[1, i]]\n",
    "        v2 = [gcp[0, i+1], gcp[1, i+1]]\n",
    "        a = v2[0]-v1[0]\n",
    "        b = v1[1]-v2[1]\n",
    "        c = v1[1]*a+v1[0]*b\n",
    "        inflat_c = -r*math.sqrt(a*a+b*b)+c\n",
    "        A.append([a, b, inflat_c])\n",
    "    pre_ind = -1\n",
    "    for i in range(len(A)):\n",
    "        a1, b1, c1 = A[pre_ind][1], A[pre_ind][0], A[pre_ind][2]\n",
    "        a2, b2, c2 = A[i][1], A[i][0], A[i][2]\n",
    "        x = (b2*c1-b1*c2)/(a1*b2-a2*b1)\n",
    "        y = (a1*c2-a2*c1)/(a1*b2-a2*b1)  \n",
    "        inflat_cps.append([x, y])\n",
    "        pre_ind = i\n",
    "    inflat_cps.append(inflat_cps[0])    \n",
    "    return A, inflat_cps\n",
    "\n",
    "\n",
    "plt.figure(figsize=(5, 5))\n",
    "\n",
    "inflat_cps_buf = []\n",
    "A_buf = []\n",
    "for obs in obs_buf:\n",
    "    gcp = local2global(obs.x, obs.y, obs.yaw, obs.corner_points)\n",
    "    plt.plot(gcp[0], gcp[1], 'k')\n",
    "    A, inflat_cps = inflation_obs(obs, 0.5)\n",
    "    inflat_cps_buf.append(inflat_cps)\n",
    "    A_buf.append(A)\n",
    "    plt.plot(np.array(inflat_cps)[:,0],np.array(inflat_cps)[:,1], 'cyan')\n",
    "plt.scatter(-4.0, -4.0, color='red', linewidth=2)\n",
    "plt.scatter(2.0, 9.0, color='red', linewidth=2)       \n",
    "plt.axis([-5, 10, -5, 10])\n",
    "plt.show()   \n",
    "\n",
    "Bx1_arr = []\n",
    "By1_arr = []\n",
    "Bx2_arr = []\n",
    "By2_arr = []\n",
    "for i in range(len(inflat_cps_buf)):\n",
    "    inflat_cps = inflat_cps_buf[i]\n",
    "    for j in range(len(inflat_cps)-1):\n",
    "        Bx1_arr.append(inflat_cps[j][0])\n",
    "        By1_arr.append(inflat_cps[j][1])\n",
    "        Bx2_arr.append(inflat_cps[j+1][0])\n",
    "        By2_arr.append(inflat_cps[j+1][1])\n",
    "Bx1_arr = np.array(Bx1_arr)\n",
    "By1_arr = np.array(By1_arr)\n",
    "Bx2_arr = np.array(Bx2_arr)\n",
    "By2_arr = np.array(By2_arr)"
   ]
  },
  {
   "cell_type": "code",
   "execution_count": 9,
   "id": "d5d793c0",
   "metadata": {},
   "outputs": [],
   "source": [
    "# time cost is 0.05774664878845215\n",
    "def line_segment_cross_judge(Ax1, Ay1, Ax2, Ay2, Bx1, By1, Bx2, By2):\n",
    "    if ((max(Ax1,Ax2)<=min(Bx1,Bx2) or min(Ax1,Ax2)>=max(Bx1,Bx2)) or\n",
    "        (max(Ay1,Ay2)<=min(By1,By2) or min(Ay1,Ay2)>=max(By1,By2))):\n",
    "        return False\n",
    "    if (((Bx1-Ax1)*(Ay2-Ay1)-(By1-Ay1)*(Ax2-Ax1))*((Bx2-Ax1)*(Ay2-Ay1)-(By2-Ay1)*(Ax2-Ax1))<0 and\n",
    "        ((Ax1-Bx1)*(By2-By1)-(Ay1-By1)*(Bx2-Bx1))*((Ax2-Bx1)*(By2-By1)-(Ay2-By1)*(Bx2-Bx1))<0):\n",
    "        return True\n",
    "    return False\n",
    "\n",
    "def point_in_obs_judge(p, A):\n",
    "    A_mat = np.array(A)\n",
    "    x = np.array([p[1], p[0], -1]).T\n",
    "    M = np.dot(A_mat, x)\n",
    "    if np.min(M) > 0:\n",
    "        return True\n",
    "    return False\n"
   ]
  },
  {
   "cell_type": "code",
   "execution_count": 20,
   "id": "1b6bd0e9",
   "metadata": {},
   "outputs": [
    {
     "data": {
      "image/png": "[encoded data removed]",
      "text/plain": [
       "<Figure size 432x288 with 1 Axes>"
      ]
     },
     "metadata": {},
     "output_type": "display_data"
    },
    {
     "data": {
      "image/png": "[encoded data removed]",
      "text/plain": [
       "<Figure size 432x288 with 1 Axes>"
      ]
     },
     "metadata": {
      "needs_background": "light"
     },
     "output_type": "display_data"
    }
   ],
   "source": [
    "import matplotlib\n",
    "import matplotlib.pyplot as plt\n",
    "%matplotlib inline\n",
    "# set up matplotlib\n",
    "is_ipython = 'inline' in matplotlib.get_backend()\n",
    "if is_ipython:\n",
    "    from IPython import display\n",
    "\n",
    "plt.ion()\n",
    "plt.figure(2)\n",
    "\n",
    "for inflat_cps in inflat_cps_buf:\n",
    "    plt.plot(np.array(inflat_cps)[:,0],np.array(inflat_cps)[:,1], 'cyan')\n",
    "plt.scatter(-4.0, -4.0, color='red', linewidth=2)\n",
    "plt.scatter(2.0, 9.0, color='red', linewidth=2)       \n",
    "plt.axis([-8, 10, -8, 10])\n",
    "plt.axis('equal')\n",
    "\n",
    "class Node:\n",
    "    def __init__(self, x, y):\n",
    "        self.x = x\n",
    "        self.y = y\n",
    "        self.parent = None\n",
    "        \n",
    "class AreaBounds:\n",
    "    def __init__(self, area):\n",
    "        self.xmin = float(area[0])\n",
    "        self.xmax = float(area[1])\n",
    "        self.ymin = float(area[2])\n",
    "        self.ymax = float(area[3])\n",
    "\n",
    "class RRT(object):\n",
    "    def __init__(self, start, goal, obs_buf, play_area, \n",
    "                 expand_dis=3.0, \n",
    "                 goal_sample_rate=5, \n",
    "                 max_iter=500):\n",
    "        self.start = Node(start[0], start[1])\n",
    "        self.end = Node(goal[0], goal[1])\n",
    "        self.play_area = AreaBounds(play_area)\n",
    "        self.expand_dis = expand_dis\n",
    "        self.goal_sample_rate = goal_sample_rate\n",
    "        self.max_iter = max_iter\n",
    "        \n",
    "    def planning(self):\n",
    "        self.node_list = [self.start]\n",
    "        for i in range(self.max_iter):\n",
    "            rnd_node = self.get_random_node()\n",
    "#             plt.scatter(rnd_node.x, rnd_node.y, color='gray')\n",
    "            nearest_ind = self.get_nearest_node_index(rnd_node)\n",
    "            nearest_node = self.node_list[nearest_ind]\n",
    "            \n",
    "            new_node = self.steer(nearest_node, rnd_node, self.expand_dis)\n",
    "            \n",
    "            if self.check_collision(nearest_node, new_node):\n",
    "                self.node_list.append(new_node)\n",
    "                plt.plot([nearest_node.x, new_node.x], [nearest_node.y, new_node.y], 'b')\n",
    "                plt.scatter([nearest_node.x, new_node.x], [nearest_node.y, new_node.y], color='orange')\n",
    "                if is_ipython:\n",
    "                    display.clear_output(wait=True)\n",
    "                    display.display(plt.gcf())\n",
    "                \n",
    "            if self.calc_dist_to_goal(self.node_list[-1].x, self.node_list[-1].y) <= self.expand_dis:\n",
    "                final_node = self.steer(self.node_list[-1], self.end, self.expand_dis)\n",
    "                if self.check_collision(self.node_list[-1], final_node):\n",
    "                    self.node_list.append(final_node)\n",
    "                    return self.generate_final_course()\n",
    "    \n",
    "        \n",
    "        \n",
    "    def get_random_node(self):\n",
    "        if random.randint(0, 100) > self.goal_sample_rate:\n",
    "            rnd = Node(random.uniform(self.play_area.xmin, self.play_area.xmax),\n",
    "                       random.uniform(self.play_area.ymin, self.play_area.ymax))\n",
    "        else: rnd = Node(self.end.x, self.end.y)\n",
    "        return rnd\n",
    "    \n",
    "    def get_nearest_node_index(self, rnd_node):\n",
    "        dlist = [(node.x-rnd_node.x)**2+(node.y-rnd_node.y)**2 for node in self.node_list]\n",
    "        return dlist.index(min(dlist))\n",
    "        \n",
    "    def steer(self, from_node, to_node, extend_length=float(\"inf\")):\n",
    "        d, theta = self.calc_distance_and_angle(from_node, to_node)        \n",
    "        \n",
    "        if extend_length > d:\n",
    "            extend_length = d\n",
    "        \n",
    "        new_node = Node(from_node.x+extend_length * math.cos(theta),\n",
    "                        from_node.y+extend_length * math.sin(theta))\n",
    "            \n",
    "        new_node.parent = from_node\n",
    "        return new_node\n",
    "            \n",
    "        \n",
    "    def calc_distance_and_angle(self, from_node, to_node):\n",
    "        dx = to_node.x - from_node.x\n",
    "        dy = to_node.y - from_node.y\n",
    "        d = math.hypot(dx, dy)\n",
    "        theta = math.atan2(dy, dx)\n",
    "        return d, theta\n",
    "    \n",
    "    def calc_dist_to_goal(self, x, y):\n",
    "        dx = x - self.end.x\n",
    "        dy = y - self.end.y\n",
    "        return math.hypot(dx, dy)    \n",
    "    \n",
    "    def check_collision(self, node0, new_node):\n",
    "        if new_node is None: return False\n",
    "        \n",
    "        for A in A_buf:\n",
    "            if point_in_obs_judge([new_node.x, new_node.y], A):\n",
    "                return False\n",
    "            \n",
    "        Ax1, Ay1 = node0.x, node0.y\n",
    "        Ax2, Ay2 = new_node.x, new_node.y                \n",
    "        for k in range(len(Bx1_arr)):\n",
    "            if line_segment_cross_judge(Ax1, Ay1, Ax2, Ay2, Bx1_arr[k], By1_arr[k], Bx2_arr[k], By2_arr[k]):   \n",
    "                return False\n",
    "        return True\n",
    "    \n",
    "    def generate_final_course(self):\n",
    "        path = [[self.end.x, self.end.y]]\n",
    "        node = self.node_list[-1]\n",
    "        while node.parent is not None:\n",
    "            path.append([node.x, node.y])\n",
    "            node = node.parent\n",
    "        path.append([node.x, node.y])\n",
    "        return path\n",
    "    \n",
    "    \n",
    "start_pos = [-4.0, -4.0]\n",
    "goal_pos = [2.0, 9.0]    \n",
    "play_area = [-8, 10, -8, 10]\n",
    "rrt = RRT(start_pos, goal_pos, obs_buf, play_area)\n",
    "path = rrt.planning()\n",
    "plt.plot(np.array(path)[:,0], np.array(path)[:,1], 'r')\n",
    "plt.show()"
   ]
  },
  {
   "cell_type": "code",
   "execution_count": 18,
   "id": "23490048",
   "metadata": {},
   "outputs": [
    {
     "name": "stdout",
     "output_type": "stream",
     "text": [
      "[[2.0, 9.0], [2.0, 9.0], [3.3796266524347702, 7.233255823345164], [1.4781160663724187, 4.9128555365211835], [1.8133652583036215, 2.72855493450329], [1.5825797660690986, 1.4338887307511123], [1.4173219149684644, -1.5615561181235253], [-1.463854274418256, -2.397512914681229], [-4.0, -4.0]]\n"
     ]
    }
   ],
   "source": [
    "print(path)\n",
    "\n",
    "\n",
    "\n",
    "\n",
    "\n",
    "\n",
    "\n",
    "\n",
    "\n",
    "\n",
    "\n"
   ]
  },
  {
   "cell_type": "code",
   "execution_count": null,
   "id": "9eaf6e83",
   "metadata": {},
   "outputs": [],
   "source": [
    "\n",
    "\n",
    "\n"
   ]
  }
 ],
 "metadata": {
  "kernelspec": {
   "display_name": "Python 3 (ipykernel)",
   "language": "python",
   "name": "python3"
  },
  "language_info": {
   "codemirror_mode": {
    "name": "ipython",
    "version": 3
   },
   "file_extension": ".py",
   "mimetype": "text/x-python",
   "name": "python",
   "nbconvert_exporter": "python",
   "pygments_lexer": "ipython3",
   "version": "3.9.5"
  }
 },
 "nbformat": 4,
 "nbformat_minor": 5
}
