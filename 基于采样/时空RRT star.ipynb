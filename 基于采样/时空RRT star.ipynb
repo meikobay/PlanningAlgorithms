{
 "cells": [
  {
   "cell_type": "code",
   "execution_count": 2,
   "id": "1eb4ee94",
   "metadata": {},
   "outputs": [
    {
     "data": {
      "image/png": "[encoded data removed]",
      "text/plain": [
       "<Figure size 360x360 with 1 Axes>"
      ]
     },
     "metadata": {
      "needs_background": "light"
     },
     "output_type": "display_data"
    }
   ],
   "source": [
    "import numpy as np\n",
    "import math\n",
    "import matplotlib.pyplot as plt\n",
    "class Box2D:\n",
    "    def __init__(self, x, y, yaw, corner_points=None, v=1.0):\n",
    "        self.x = x\n",
    "        self.y = y\n",
    "        self.yaw = yaw\n",
    "        self.corner_points = corner_points\n",
    "        self.inflat_cpoints = []\n",
    "        self.v = v\n",
    "    def update_once(self, dt):\n",
    "        self.x += self.v*dt*math.cos(self.yaw)\n",
    "        self.y += self.v*dt*math.sin(self.yaw)\n",
    "    def inflation_obs(self, r):\n",
    "        A = []\n",
    "        for i in range(len(self.corner_points[0])-1):\n",
    "            v1 = [self.corner_points[0, i], self.corner_points[1, i]]\n",
    "            v2 = [self.corner_points[0, i+1], self.corner_points[1, i+1]]\n",
    "            a = v2[0] - v1[0]\n",
    "            b = v1[1] - v2[1]\n",
    "            c = v1[1]*a+v1[0]*b\n",
    "            inflat_c = -r*math.sqrt(a*a+b*b)+c\n",
    "            A.append([a, b, inflat_c])\n",
    "        pre_ind = -1\n",
    "        for i in range(len(A)):\n",
    "            a1, b1, c1 = A[pre_ind][1], A[pre_ind][0], A[pre_ind][2]\n",
    "            a2, b2, c2 = A[i][1], A[i][0], A[i][2]\n",
    "            x = (b2*c1-b1*c2)/(a1*b2-a2*b1)\n",
    "            y = (a1*c2-a2*c1)/(a1*b2-a2*b1)  \n",
    "            self.inflat_cpoints.append([x, y])\n",
    "            pre_ind = i\n",
    "        self.inflat_cpoints.append(self.inflat_cpoints[0])   \n",
    "        self.inflat_cpoints = np.array(self.inflat_cpoints).T\n",
    "        \n",
    "\n",
    "corner_points3 = np.array([[0.5, -0.5, -0.5, 0.5],\n",
    "                 [0.0, 0.5, -0.5, 0.0]])    \n",
    "corner_points4 = np.array([[0.5, -0.5, -0.5, 0.5, 0.5],\n",
    "                 [0.5, 0.5, -0.5, -0.5, 0.5]])       \n",
    "corner_points5 = np.array([[1.0, 0.0, -0.5, -0.5, 0.0, 1.0],\n",
    "                 [0.0, 0.5, 0.5, -0.5, -0.5, 0.0]])           \n",
    "obs0 = Box2D(4.0, 4.0, math.pi/2.0, corner_points=corner_points3)\n",
    "obs1 = Box2D(0.0, 6.0, math.pi/3.0, corner_points=corner_points4)\n",
    "obs2 = Box2D(-2.0, 0.0, -math.pi/3.0, corner_points=corner_points5)\n",
    "obs_buf = [obs0, obs1, obs2]\n",
    "for obs in obs_buf:\n",
    "    obs.inflation_obs(0.5)\n",
    "def local2global(x0, y0, yaw0, corner_points):\n",
    "    R = np.array([[math.cos(yaw0), -math.sin(yaw0)],\n",
    "                  [math.sin(yaw0), math.cos(yaw0)]])\n",
    "    corner_arr = np.array(corner_points)\n",
    "    return np.dot(R, corner_arr)+np.array([[x0],[y0]])\n",
    "plt.figure(figsize=(5, 5))\n",
    "\n",
    "for obs in obs_buf:\n",
    "    gcp = local2global(obs.x, obs.y, obs.yaw, obs.corner_points)\n",
    "    plt.plot(gcp[0], gcp[1], 'k')\n",
    "    inflat_cps = local2global(obs.x, obs.y, obs.yaw, obs.inflat_cpoints)\n",
    "    plt.plot(np.array(inflat_cps)[0],np.array(inflat_cps)[1], 'cyan')\n",
    "plt.scatter(-4.0, -4.0, color='red', linewidth=2)\n",
    "plt.scatter(2.0, 9.0, color='red', linewidth=2)       \n",
    "plt.axis([-5, 10, -5, 10])\n",
    "plt.show()   "
   ]
  },
  {
   "cell_type": "code",
   "execution_count": 3,
   "id": "6d6ee9c9",
   "metadata": {},
   "outputs": [],
   "source": [
    "# time cost is 0.05774664878845215\n",
    "def line_segment_cross_judge(Ax1, Ay1, Ax2, Ay2, Bx1, By1, Bx2, By2):\n",
    "    if ((max(Ax1,Ax2)<=min(Bx1,Bx2) or min(Ax1,Ax2)>=max(Bx1,Bx2)) or\n",
    "        (max(Ay1,Ay2)<=min(By1,By2) or min(Ay1,Ay2)>=max(By1,By2))):\n",
    "        return False\n",
    "    if (((Bx1-Ax1)*(Ay2-Ay1)-(By1-Ay1)*(Ax2-Ax1))*((Bx2-Ax1)*(Ay2-Ay1)-(By2-Ay1)*(Ax2-Ax1))<0 and\n",
    "        ((Ax1-Bx1)*(By2-By1)-(Ay1-By1)*(Bx2-Bx1))*((Ax2-Bx1)*(By2-By1)-(Ay2-By1)*(Bx2-Bx1))<0):\n",
    "        return True\n",
    "    return False\n",
    "\n",
    "\n",
    "ST_MAP = [[] for i in range(10)]\n",
    "for obs in obs_buf:\n",
    "    gcp0 = local2global(obs.x, obs.y, obs.yaw, obs.inflat_cpoints)\n",
    "    for j in range(len(gcp0[0])-1):\n",
    "        ST_MAP[0].append([gcp0[0][j], gcp0[1][j], gcp0[0][j+1], gcp0[1][j+1]])    \n",
    "    for i in range(1, 10):\n",
    "        for j in range(len(gcp0[0])-1):\n",
    "            ST_MAP[i].append([gcp0[0][j], gcp0[1][j], gcp0[0][j+1], gcp0[1][j+1]])\n",
    "        obs.update_once(1.0)\n",
    "        gcp1 = local2global(obs.x, obs.y, obs.yaw, obs.inflat_cpoints)\n",
    "        for j in range(len(gcp1[0])-1):\n",
    "            ST_MAP[i].append([gcp1[0][j], gcp1[1][j], gcp1[0][j+1], gcp1[1][j+1]]) \n",
    "            ST_MAP[i].append([gcp0[0][j], gcp0[1][j], gcp1[0][j], gcp1[1][j]])   \n",
    "        gcp0 = gcp1\n",
    "        \n",
    "  "
   ]
  },
  {
   "cell_type": "code",
   "execution_count": 4,
   "id": "da199640",
   "metadata": {},
   "outputs": [
    {
     "data": {
      "image/png": "[encoded data removed]",
      "text/plain": [
       "<Figure size 432x288 with 1 Axes>"
      ]
     },
     "metadata": {
      "needs_background": "light"
     },
     "output_type": "display_data"
    }
   ],
   "source": [
    "      \n",
    "test_line = [-4.0, -0.0, 4.0, 8.0]        \n",
    "        \n",
    "Ax1, Ay1, Ax2, Ay2 = test_line        \n",
    "for line in ST_MAP[1]:    \n",
    "    Bx1, By1, Bx2, By2 = line\n",
    "    if line_segment_cross_judge(Ax1, Ay1, Ax2, Ay2, Bx1, By1, Bx2, By2):\n",
    "        print('is collision')\n",
    "        break\n",
    "        \n",
    "for line in ST_MAP[1]:         \n",
    "    plt.plot([line[0], line[2]], [line[1], line[3]], 'k')\n",
    "plt.plot([test_line[0], test_line[2]], [test_line[1], test_line[3]], 'r')\n",
    "plt.axis([-5, 10, -5, 10])    \n",
    "plt.show()"
   ]
  },
  {
   "cell_type": "code",
   "execution_count": 5,
   "id": "8e7ab318",
   "metadata": {
    "scrolled": true
   },
   "outputs": [
    {
     "ename": "ValueError",
     "evalue": "min() arg is an empty sequence",
     "output_type": "error",
     "traceback": [
      "\u001b[0;31m---------------------------------------------------------------------------\u001b[0m",
      "\u001b[0;31mValueError\u001b[0m                                Traceback (most recent call last)",
      "Input \u001b[0;32mIn [5]\u001b[0m, in \u001b[0;36m<cell line: 155>\u001b[0;34m()\u001b[0m\n\u001b[1;32m    153\u001b[0m play_area \u001b[38;5;241m=\u001b[39m [\u001b[38;5;241m-\u001b[39m\u001b[38;5;241m8\u001b[39m, \u001b[38;5;241m10\u001b[39m, \u001b[38;5;241m-\u001b[39m\u001b[38;5;241m8\u001b[39m, \u001b[38;5;241m10\u001b[39m]\n\u001b[1;32m    154\u001b[0m rrt \u001b[38;5;241m=\u001b[39m STRRTStar(start_pos, goal_pos, \u001b[38;5;241m20\u001b[39m, play_area)\n\u001b[0;32m--> 155\u001b[0m path \u001b[38;5;241m=\u001b[39m \u001b[43mrrt\u001b[49m\u001b[38;5;241;43m.\u001b[39;49m\u001b[43mplanning\u001b[49m\u001b[43m(\u001b[49m\u001b[43m)\u001b[49m\n\u001b[1;32m    156\u001b[0m plt\u001b[38;5;241m.\u001b[39mplot(np\u001b[38;5;241m.\u001b[39marray(path)[:,\u001b[38;5;241m0\u001b[39m], np\u001b[38;5;241m.\u001b[39marray(path)[:,\u001b[38;5;241m1\u001b[39m], \u001b[38;5;124m'\u001b[39m\u001b[38;5;124mr\u001b[39m\u001b[38;5;124m'\u001b[39m)\n\u001b[1;32m    157\u001b[0m plt\u001b[38;5;241m.\u001b[39mshow()\n",
      "Input \u001b[0;32mIn [5]\u001b[0m, in \u001b[0;36mSTRRTStar.planning\u001b[0;34m(self)\u001b[0m\n\u001b[1;32m     52\u001b[0m i \u001b[38;5;241m=\u001b[39m \u001b[38;5;241m0\u001b[39m\n\u001b[1;32m     53\u001b[0m \u001b[38;5;28;01mwhile\u001b[39;00m i \u001b[38;5;241m<\u001b[39m \u001b[38;5;28mself\u001b[39m\u001b[38;5;241m.\u001b[39mmax_iter \u001b[38;5;129;01mor\u001b[39;00m \u001b[38;5;28mself\u001b[39m\u001b[38;5;241m.\u001b[39mfinal_idx \u001b[38;5;241m<\u001b[39m \u001b[38;5;241m0\u001b[39m:\n\u001b[0;32m---> 54\u001b[0m     t \u001b[38;5;241m=\u001b[39m \u001b[38;5;28;43mself\u001b[39;49m\u001b[38;5;241;43m.\u001b[39;49m\u001b[43msample_t\u001b[49m\u001b[43m(\u001b[49m\u001b[43m)\u001b[49m\n\u001b[1;32m     55\u001b[0m     rnd_node \u001b[38;5;241m=\u001b[39m \u001b[38;5;28mself\u001b[39m\u001b[38;5;241m.\u001b[39mget_random_node(t)            \n\u001b[1;32m     56\u001b[0m     nearest_ind \u001b[38;5;241m=\u001b[39m \u001b[38;5;28mself\u001b[39m\u001b[38;5;241m.\u001b[39mget_nearest_node_index(rnd_node, t)\n",
      "Input \u001b[0;32mIn [5]\u001b[0m, in \u001b[0;36mSTRRTStar.sample_t\u001b[0;34m(self)\u001b[0m\n\u001b[1;32m     77\u001b[0m \u001b[38;5;28;01mdef\u001b[39;00m \u001b[38;5;21msample_t\u001b[39m(\u001b[38;5;28mself\u001b[39m):\n\u001b[1;32m     78\u001b[0m     node_num_buf \u001b[38;5;241m=\u001b[39m [\u001b[38;5;28mlen\u001b[39m(\u001b[38;5;28mself\u001b[39m\u001b[38;5;241m.\u001b[39mlayers_node_idxs[i]) \u001b[38;5;28;01mfor\u001b[39;00m  i \u001b[38;5;129;01min\u001b[39;00m \u001b[38;5;28mrange\u001b[39m(\u001b[38;5;241m1\u001b[39m, \u001b[38;5;28mself\u001b[39m\u001b[38;5;241m.\u001b[39mt_end\u001b[38;5;241m+\u001b[39m\u001b[38;5;241m1\u001b[39m) ]\n\u001b[0;32m---> 79\u001b[0m     \u001b[38;5;28;01mreturn\u001b[39;00m  node_num_buf\u001b[38;5;241m.\u001b[39mindex(\u001b[38;5;28;43mmin\u001b[39;49m\u001b[43m(\u001b[49m\u001b[43mnode_num_buf\u001b[49m\u001b[43m)\u001b[49m)\n",
      "\u001b[0;31mValueError\u001b[0m: min() arg is an empty sequence"
     ]
    },
    {
     "data": {
      "image/png": "[encoded data removed]",
      "text/plain": [
       "<Figure size 432x288 with 1 Axes>"
      ]
     },
     "metadata": {
      "needs_background": "light"
     },
     "output_type": "display_data"
    }
   ],
   "source": [
    "import random\n",
    "import matplotlib\n",
    "import matplotlib.pyplot as plt\n",
    "%matplotlib inline\n",
    "# set up matplotlib\n",
    "is_ipython = 'inline' in matplotlib.get_backend()\n",
    "if is_ipython:\n",
    "    from IPython import display\n",
    "\n",
    "plt.ion()\n",
    "plt.figure(2)\n",
    "\n",
    "for line in ST_MAP[1]:\n",
    "    plt.plot([line[0], line[2]], [line[1], line[3]], 'cyan')\n",
    "plt.scatter(-4.0, -4.0, color='red', linewidth=2)\n",
    "plt.scatter(2.0, 9.0, color='red', linewidth=2)       \n",
    "plt.axis([-8, 10, -8, 10])\n",
    "plt.axis('equal')\n",
    "\n",
    "class Node:\n",
    "    def __init__(self, t, x, y):\n",
    "        self.t = t\n",
    "        self.x = x\n",
    "        self.y = y\n",
    "        self.cost = 0\n",
    "        self.parent = -1\n",
    "        \n",
    "class AreaBounds:\n",
    "    def __init__(self, area):\n",
    "        self.xmin = float(area[0])\n",
    "        self.xmax = float(area[1])\n",
    "        self.ymin = float(area[2])\n",
    "        self.ymax = float(area[3])\n",
    "        \n",
    "class STRRTStar(object):\n",
    "    def __init__(self, start, goal, T, play_area, goal_sample_rate=5, expand_dis=3.0, max_iter=300):\n",
    "        self.start = Node(0, start[0], start[1])\n",
    "        self.end = Node(T, goal[0], goal[1])\n",
    "        self.t_end = 0\n",
    "        self.final_idx = -1\n",
    "        self.T = T\n",
    "        self.play_area = AreaBounds(play_area)\n",
    "        self.goal_sample_rate = goal_sample_rate\n",
    "        self.expand_dis = expand_dis\n",
    "        self.max_iter = max_iter\n",
    "        self.node_list = [self.start]\n",
    "        self.layers_node_idxs = [[] for i in range(self.T)]\n",
    "        self.layers_node_idxs[0].append(0)\n",
    "        \n",
    "    def planning(self):\n",
    "        path = None\n",
    "        i = 0\n",
    "        while i < self.max_iter or self.final_idx < 0:\n",
    "            t = self.sample_t()\n",
    "            rnd_node = self.get_random_node(t)            \n",
    "            nearest_ind = self.get_nearest_node_index(rnd_node, t)\n",
    "            nearest_node = self.node_list[nearest_ind]\n",
    "            new_node = self.steer(nearest_ind, rnd_node, self.expand_dis)\n",
    "#             plt.plot([nearest_node.x, new_node.x], [nearest_node.y, new_node.y], 'b')\n",
    "            if self.check_collision(nearest_node, new_node, t):\n",
    "                self.t_end = min(self.T-1, t+1)\n",
    "                self.node_list.append(new_node)\n",
    "                self.layers_node_idxs[t+1].append(len(self.node_list)-1)\n",
    "                plt.plot([nearest_node.x, new_node.x], [nearest_node.y, new_node.y], 'b')\n",
    "                plt.scatter([nearest_node.x, new_node.x], [nearest_node.y, new_node.y], color='orange')\n",
    "                \n",
    "            if self.calc_dist_to_goal(self.node_list[-1].x, self.node_list[-1].y) <= self.expand_dis:\n",
    "                final_node = self.steer(len(self.node_list)-1, self.end, self.expand_dis)\n",
    "                if self.check_collision(self.node_list[-1], final_node, t):\n",
    "                    self.node_list.append(final_node)\n",
    "                    return self.generate_final_course() \n",
    "                \n",
    "            if is_ipython:\n",
    "                display.clear_output(wait=True)\n",
    "                display.display(plt.gcf())                \n",
    "            \n",
    "    def sample_t(self):\n",
    "        node_num_buf = [len(self.layers_node_idxs[i]) for  i in range(1, self.t_end+1) ]\n",
    "        return  node_num_buf.index(min(node_num_buf))            \n",
    "            \n",
    "#     def sample_t(self):\n",
    "#         while True:\n",
    "#             t = random.randint(0, min(self.t_end, self.T-1))\n",
    "#             if (len(self.layers_node_idxs[t+1]) < (t+1)*20):\n",
    "#                 return t\n",
    "    \n",
    "    \n",
    "    def get_random_node(self, t):\n",
    "        if random.randint(0, 100) > self.goal_sample_rate:\n",
    "            rnd = Node(t+1, random.uniform(self.play_area.xmin, self.play_area.xmax),\n",
    "                       random.uniform(self.play_area.ymin, self.play_area.ymax))\n",
    "        else: rnd = Node(t+1, self.end.x, self.end.y)\n",
    "        return rnd \n",
    "    \n",
    "    \n",
    "    def get_nearest_node_index(self, rnd_node, t):\n",
    "        dlist = [(self.node_list[idx].x-rnd_node.x)**2+(self.node_list[idx].y-rnd_node.y)**2 for idx in self.layers_node_idxs[t]]\n",
    "        return self.layers_node_idxs[t][dlist.index(min(dlist))]   \n",
    "    \n",
    "    \n",
    "    def steer(self, from_ind, to_node, extend_length=float(\"inf\")):\n",
    "        from_node = self.node_list[from_ind]\n",
    "        d, theta = self.calc_distance_and_angle(from_node, to_node)        \n",
    "        \n",
    "        if extend_length > d:\n",
    "            extend_length = d\n",
    "        \n",
    "        new_node = Node(self.node_list[from_ind].t+1, from_node.x+extend_length * math.cos(theta),\n",
    "                        from_node.y+extend_length * math.sin(theta))\n",
    "        \n",
    "        new_node.cost = self.calc_distance(self.node_list[from_ind], new_node) + self.node_list[from_ind].cost\n",
    "        new_node.parent = from_ind\n",
    "        return new_node \n",
    "    \n",
    "    def calc_distance_and_angle(self, from_node, to_node):\n",
    "        dx = to_node.x - from_node.x\n",
    "        dy = to_node.y - from_node.y\n",
    "        d = math.hypot(dx, dy)\n",
    "        theta = math.atan2(dy, dx)\n",
    "        return d, theta \n",
    "    \n",
    "    def calc_distance(self, from_node, to_node):\n",
    "        dx = to_node.x - from_node.x\n",
    "        dy = to_node.y - from_node.y\n",
    "        return math.hypot(dx, dy)    \n",
    "    \n",
    "    def calc_dist_to_goal(self, x, y):\n",
    "        dx = x - self.end.x\n",
    "        dy = y - self.end.y\n",
    "        return math.hypot(dx, dy)        \n",
    "    \n",
    "    def check_collision(self, node0, new_node, t):\n",
    "        if new_node is None: return False\n",
    "        Ax1, Ay1 = node0.x, node0.y\n",
    "        Ax2, Ay2 = new_node.x, new_node.y\n",
    "        for line in ST_MAP[t+1]:            \n",
    "            Bx1, By1, Bx2, By2 = line\n",
    "            if line_segment_cross_judge(Ax1, Ay1, Ax2, Ay2, Bx1, By1, Bx2, By2):\n",
    "                return False\n",
    "        return True\n",
    "    \n",
    "    def generate_final_course(self):\n",
    "        path = [[self.end.x, self.end.y]]\n",
    "        node = self.node_list[-1]\n",
    "        while node.parent >= 0:\n",
    "            path.append([node.x, node.y])\n",
    "            node = self.node_list[node.parent]\n",
    "        path.append([node.x, node.y])\n",
    "        return list(reversed(path))   \n",
    "    \n",
    "start_pos = [-4.0, -4.0]\n",
    "goal_pos = [2.0, 9.0]    \n",
    "play_area = [-8, 10, -8, 10]\n",
    "rrt = STRRTStar(start_pos, goal_pos, 20, play_area)\n",
    "path = rrt.planning()\n",
    "plt.plot(np.array(path)[:,0], np.array(path)[:,1], 'r')\n",
    "plt.show()    \n",
    "    "
   ]
  },
  {
   "cell_type": "code",
   "execution_count": 10,
   "id": "0bc81126",
   "metadata": {},
   "outputs": [
    {
     "data": {
      "image/png": "[encoded data removed]",
      "text/plain": [
       "<Figure size 432x288 with 1 Axes>"
      ]
     },
     "metadata": {},
     "output_type": "display_data"
    },
    {
     "data": {
      "image/png": "[encoded data removed]",
      "text/plain": [
       "<Figure size 432x288 with 1 Axes>"
      ]
     },
     "metadata": {
      "needs_background": "light"
     },
     "output_type": "display_data"
    }
   ],
   "source": [
    "path = list(reversed(path)) \n",
    "\n",
    "for i in range(len(path)):\n",
    "    plt.clf()\n",
    "    plt.plot(np.array(path)[:,0], np.array(path)[:,1], 'r')\n",
    "    plt.scatter(np.array(path)[i, 0], np.array(path)[i,1], color='blue')    \n",
    "    for line in ST_MAP[i]:\n",
    "        plt.plot([line[0], line[2]], [line[1], line[3]], 'cyan')\n",
    "    import time\n",
    "    time.sleep(1)\n",
    "    if is_ipython:\n",
    "        display.clear_output(wait=True)\n",
    "        display.display(plt.gcf())   "
   ]
  },
  {
   "cell_type": "code",
   "execution_count": null,
   "id": "fd0848cf",
   "metadata": {},
   "outputs": [],
   "source": [
    "\n",
    "\n",
    "\n",
    "\n",
    "\n",
    "\n",
    "\n",
    "\n",
    "\n"
   ]
  }
 ],
 "metadata": {
  "kernelspec": {
   "display_name": "Python 3 (ipykernel)",
   "language": "python",
   "name": "python3"
  },
  "language_info": {
   "codemirror_mode": {
    "name": "ipython",
    "version": 3
   },
   "file_extension": ".py",
   "mimetype": "text/x-python",
   "name": "python",
   "nbconvert_exporter": "python",
   "pygments_lexer": "ipython3",
   "version": "3.9.13"
  }
 },
 "nbformat": 4,
 "nbformat_minor": 5
}
